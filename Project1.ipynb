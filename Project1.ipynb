{
 "cells": [
  {
   "cell_type": "code",
   "execution_count": 274,
   "id": "eastern-inventory",
   "metadata": {},
   "outputs": [],
   "source": [
    "import numpy as np\n",
    "import pandas as pd\n",
    "import matplotlib.pyplot as plt\n",
    "import matplotlib.ticker as mtick\n",
    "import re\n",
    "from sklearn.linear_model import LinearRegression\n",
    "from sklearn.model_selection import train_test_split\n",
    "from sklearn.metrics import r2_score, mean_squared_error\n",
    "import seaborn as sns\n",
    "%matplotlib inline"
   ]
  },
  {
   "cell_type": "markdown",
   "id": "coral-substitute",
   "metadata": {},
   "source": [
    "# Business Understanding\n",
    "\n",
    "Here we use the Seattle and Boston AirBnB data to answer the following questions:\n",
    "\n",
    "1. What are the most and least expensive times to rent in each city?\n",
    "2. What are the most important features which drive the rental prices?  Are these different between the Seattle and Boston data?\n",
    "3. Are there any strategies a potential renter may take to get a cheaper price on good properties?\n",
    "4. Are the peak times of year in Seattle and Boston the same?\n"
   ]
  },
  {
   "cell_type": "markdown",
   "id": "thermal-fever",
   "metadata": {},
   "source": [
    "# Data Understanding\n",
    "\n",
    "Here we get an overall understanding of the datasets, including:\n",
    "\n",
    "1. Basic statistics\n",
    "2. Number of missing values for each attribute\n",
    "3. Distribution of key fields\n",
    "4. Visual exploration of relationships between key attributes\n"
   ]
  },
  {
   "cell_type": "markdown",
   "id": "framed-devil",
   "metadata": {},
   "source": [
    "### Data Import and Initial Cleanup"
   ]
  },
  {
   "cell_type": "code",
   "execution_count": 262,
   "id": "alike-conclusion",
   "metadata": {},
   "outputs": [
    {
     "data": {
      "text/html": [
       "<div>\n",
       "<style scoped>\n",
       "    .dataframe tbody tr th:only-of-type {\n",
       "        vertical-align: middle;\n",
       "    }\n",
       "\n",
       "    .dataframe tbody tr th {\n",
       "        vertical-align: top;\n",
       "    }\n",
       "\n",
       "    .dataframe thead th {\n",
       "        text-align: right;\n",
       "    }\n",
       "</style>\n",
       "<table border=\"1\" class=\"dataframe\">\n",
       "  <thead>\n",
       "    <tr style=\"text-align: right;\">\n",
       "      <th></th>\n",
       "      <th>date</th>\n",
       "      <th>available</th>\n",
       "      <th>price</th>\n",
       "    </tr>\n",
       "    <tr>\n",
       "      <th>listing_id</th>\n",
       "      <th></th>\n",
       "      <th></th>\n",
       "      <th></th>\n",
       "    </tr>\n",
       "  </thead>\n",
       "  <tbody>\n",
       "    <tr>\n",
       "      <th>241032</th>\n",
       "      <td>2016-01-04</td>\n",
       "      <td>t</td>\n",
       "      <td>$85.00</td>\n",
       "    </tr>\n",
       "    <tr>\n",
       "      <th>241032</th>\n",
       "      <td>2016-01-05</td>\n",
       "      <td>t</td>\n",
       "      <td>$85.00</td>\n",
       "    </tr>\n",
       "    <tr>\n",
       "      <th>241032</th>\n",
       "      <td>2016-01-06</td>\n",
       "      <td>f</td>\n",
       "      <td>NaN</td>\n",
       "    </tr>\n",
       "    <tr>\n",
       "      <th>241032</th>\n",
       "      <td>2016-01-07</td>\n",
       "      <td>f</td>\n",
       "      <td>NaN</td>\n",
       "    </tr>\n",
       "    <tr>\n",
       "      <th>241032</th>\n",
       "      <td>2016-01-08</td>\n",
       "      <td>f</td>\n",
       "      <td>NaN</td>\n",
       "    </tr>\n",
       "  </tbody>\n",
       "</table>\n",
       "</div>"
      ],
      "text/plain": [
       "                  date available   price\n",
       "listing_id                              \n",
       "241032      2016-01-04         t  $85.00\n",
       "241032      2016-01-05         t  $85.00\n",
       "241032      2016-01-06         f     NaN\n",
       "241032      2016-01-07         f     NaN\n",
       "241032      2016-01-08         f     NaN"
      ]
     },
     "execution_count": 262,
     "metadata": {},
     "output_type": "execute_result"
    }
   ],
   "source": [
    "# Import the Boston data\n",
    "bos_list = pd.read_csv('./Data/Boston/listings.csv')\n",
    "bos_cal  = pd.read_csv('./Data/Boston/calendar.csv')\n",
    "# bos_rev  = pd.read_csv('./Data/Boston/reviews.csv')\n",
    "\n",
    "# Import the Seattle data\n",
    "sea_list = pd.read_csv('./Data/Seattle/listings.csv')\n",
    "sea_cal  = pd.read_csv('./Data/Seattle/calendar.csv')\n",
    "# sea_rev  = pd.read_csv('./Data/Seattle/reviews.csv')\n",
    "\n",
    "# Rename the 'id' field in the listing data to 'listing_id' to match the other tables\n",
    "bos_list.rename(columns={'id':'listing_id'}, inplace=True)\n",
    "sea_list.rename(columns={'id':'listing_id'}, inplace=True)\n",
    "\n",
    "# Set indicies to the 'listing_id' on all dataframes\n",
    "bos_list.set_index('listing_id', inplace=True)\n",
    "bos_cal.set_index('listing_id', inplace=True)\n",
    "# bos_rev.set_index('listing_id', inplace=True)\n",
    "\n",
    "sea_list.set_index('listing_id', inplace=True)\n",
    "sea_cal.set_index('listing_id', inplace=True)\n",
    "# sea_rev.set_index('listing_id', inplace=True)\n",
    "\n",
    "sea_cal.head()"
   ]
  },
  {
   "cell_type": "code",
   "execution_count": 263,
   "id": "former-computer",
   "metadata": {},
   "outputs": [
    {
     "name": "stdout",
     "output_type": "stream",
     "text": [
      "Columns in Seattle set but not in Boston set:  []\n",
      "Columns in Boston set but not in Seattle set:  ['house_rules', 'interaction', 'access']\n"
     ]
    }
   ],
   "source": [
    "# Check to see if the Seattle and Boston listing datasets have the same columns\n",
    "seattle_not_boston = list(set(sea_list.columns) - set(bos_list.columns))\n",
    "boston_not_seattle = list(set(bos_list.columns) - set(sea_list.columns))\n",
    "\n",
    "print(\"Columns in Seattle set but not in Boston set: \", seattle_not_boston)\n",
    "print(\"Columns in Boston set but not in Seattle set: \", boston_not_seattle)"
   ]
  },
  {
   "cell_type": "code",
   "execution_count": 264,
   "id": "rubber-manhattan",
   "metadata": {},
   "outputs": [
    {
     "data": {
      "text/html": [
       "<div>\n",
       "<style scoped>\n",
       "    .dataframe tbody tr th:only-of-type {\n",
       "        vertical-align: middle;\n",
       "    }\n",
       "\n",
       "    .dataframe tbody tr th {\n",
       "        vertical-align: top;\n",
       "    }\n",
       "\n",
       "    .dataframe thead th {\n",
       "        text-align: right;\n",
       "    }\n",
       "</style>\n",
       "<table border=\"1\" class=\"dataframe\">\n",
       "  <thead>\n",
       "    <tr style=\"text-align: right;\">\n",
       "      <th></th>\n",
       "      <th>host_is_superhost</th>\n",
       "      <th>neighbourhood_cleansed</th>\n",
       "      <th>zipcode</th>\n",
       "      <th>property_type</th>\n",
       "      <th>room_type</th>\n",
       "      <th>accommodates</th>\n",
       "      <th>bathrooms</th>\n",
       "      <th>bedrooms</th>\n",
       "      <th>beds</th>\n",
       "      <th>bed_type</th>\n",
       "      <th>...</th>\n",
       "      <th>maximum_nights</th>\n",
       "      <th>number_of_reviews</th>\n",
       "      <th>review_scores_rating</th>\n",
       "      <th>review_scores_accuracy</th>\n",
       "      <th>review_scores_cleanliness</th>\n",
       "      <th>review_scores_checkin</th>\n",
       "      <th>review_scores_communication</th>\n",
       "      <th>review_scores_location</th>\n",
       "      <th>review_scores_value</th>\n",
       "      <th>cancellation_policy</th>\n",
       "    </tr>\n",
       "    <tr>\n",
       "      <th>listing_id</th>\n",
       "      <th></th>\n",
       "      <th></th>\n",
       "      <th></th>\n",
       "      <th></th>\n",
       "      <th></th>\n",
       "      <th></th>\n",
       "      <th></th>\n",
       "      <th></th>\n",
       "      <th></th>\n",
       "      <th></th>\n",
       "      <th></th>\n",
       "      <th></th>\n",
       "      <th></th>\n",
       "      <th></th>\n",
       "      <th></th>\n",
       "      <th></th>\n",
       "      <th></th>\n",
       "      <th></th>\n",
       "      <th></th>\n",
       "      <th></th>\n",
       "      <th></th>\n",
       "    </tr>\n",
       "  </thead>\n",
       "  <tbody>\n",
       "    <tr>\n",
       "      <th>241032</th>\n",
       "      <td>f</td>\n",
       "      <td>West Queen Anne</td>\n",
       "      <td>98119</td>\n",
       "      <td>Apartment</td>\n",
       "      <td>Entire home/apt</td>\n",
       "      <td>4</td>\n",
       "      <td>1.0</td>\n",
       "      <td>1.0</td>\n",
       "      <td>1.0</td>\n",
       "      <td>Real Bed</td>\n",
       "      <td>...</td>\n",
       "      <td>365</td>\n",
       "      <td>207</td>\n",
       "      <td>95.0</td>\n",
       "      <td>10.0</td>\n",
       "      <td>10.0</td>\n",
       "      <td>10.0</td>\n",
       "      <td>10.0</td>\n",
       "      <td>9.0</td>\n",
       "      <td>10.0</td>\n",
       "      <td>moderate</td>\n",
       "    </tr>\n",
       "    <tr>\n",
       "      <th>953595</th>\n",
       "      <td>t</td>\n",
       "      <td>West Queen Anne</td>\n",
       "      <td>98119</td>\n",
       "      <td>Apartment</td>\n",
       "      <td>Entire home/apt</td>\n",
       "      <td>4</td>\n",
       "      <td>1.0</td>\n",
       "      <td>1.0</td>\n",
       "      <td>1.0</td>\n",
       "      <td>Real Bed</td>\n",
       "      <td>...</td>\n",
       "      <td>90</td>\n",
       "      <td>43</td>\n",
       "      <td>96.0</td>\n",
       "      <td>10.0</td>\n",
       "      <td>10.0</td>\n",
       "      <td>10.0</td>\n",
       "      <td>10.0</td>\n",
       "      <td>10.0</td>\n",
       "      <td>10.0</td>\n",
       "      <td>strict</td>\n",
       "    </tr>\n",
       "    <tr>\n",
       "      <th>3308979</th>\n",
       "      <td>f</td>\n",
       "      <td>West Queen Anne</td>\n",
       "      <td>98119</td>\n",
       "      <td>House</td>\n",
       "      <td>Entire home/apt</td>\n",
       "      <td>11</td>\n",
       "      <td>4.5</td>\n",
       "      <td>5.0</td>\n",
       "      <td>7.0</td>\n",
       "      <td>Real Bed</td>\n",
       "      <td>...</td>\n",
       "      <td>30</td>\n",
       "      <td>20</td>\n",
       "      <td>97.0</td>\n",
       "      <td>10.0</td>\n",
       "      <td>10.0</td>\n",
       "      <td>10.0</td>\n",
       "      <td>10.0</td>\n",
       "      <td>10.0</td>\n",
       "      <td>10.0</td>\n",
       "      <td>strict</td>\n",
       "    </tr>\n",
       "    <tr>\n",
       "      <th>7421966</th>\n",
       "      <td>f</td>\n",
       "      <td>West Queen Anne</td>\n",
       "      <td>98119</td>\n",
       "      <td>Apartment</td>\n",
       "      <td>Entire home/apt</td>\n",
       "      <td>3</td>\n",
       "      <td>1.0</td>\n",
       "      <td>0.0</td>\n",
       "      <td>2.0</td>\n",
       "      <td>Real Bed</td>\n",
       "      <td>...</td>\n",
       "      <td>1125</td>\n",
       "      <td>0</td>\n",
       "      <td>NaN</td>\n",
       "      <td>NaN</td>\n",
       "      <td>NaN</td>\n",
       "      <td>NaN</td>\n",
       "      <td>NaN</td>\n",
       "      <td>NaN</td>\n",
       "      <td>NaN</td>\n",
       "      <td>flexible</td>\n",
       "    </tr>\n",
       "    <tr>\n",
       "      <th>278830</th>\n",
       "      <td>f</td>\n",
       "      <td>West Queen Anne</td>\n",
       "      <td>98119</td>\n",
       "      <td>House</td>\n",
       "      <td>Entire home/apt</td>\n",
       "      <td>6</td>\n",
       "      <td>2.0</td>\n",
       "      <td>3.0</td>\n",
       "      <td>3.0</td>\n",
       "      <td>Real Bed</td>\n",
       "      <td>...</td>\n",
       "      <td>1125</td>\n",
       "      <td>38</td>\n",
       "      <td>92.0</td>\n",
       "      <td>9.0</td>\n",
       "      <td>9.0</td>\n",
       "      <td>10.0</td>\n",
       "      <td>10.0</td>\n",
       "      <td>9.0</td>\n",
       "      <td>9.0</td>\n",
       "      <td>strict</td>\n",
       "    </tr>\n",
       "  </tbody>\n",
       "</table>\n",
       "<p>5 rows × 26 columns</p>\n",
       "</div>"
      ],
      "text/plain": [
       "           host_is_superhost neighbourhood_cleansed zipcode property_type  \\\n",
       "listing_id                                                                  \n",
       "241032                     f        West Queen Anne   98119     Apartment   \n",
       "953595                     t        West Queen Anne   98119     Apartment   \n",
       "3308979                    f        West Queen Anne   98119         House   \n",
       "7421966                    f        West Queen Anne   98119     Apartment   \n",
       "278830                     f        West Queen Anne   98119         House   \n",
       "\n",
       "                  room_type  accommodates  bathrooms  bedrooms  beds  \\\n",
       "listing_id                                                             \n",
       "241032      Entire home/apt             4        1.0       1.0   1.0   \n",
       "953595      Entire home/apt             4        1.0       1.0   1.0   \n",
       "3308979     Entire home/apt            11        4.5       5.0   7.0   \n",
       "7421966     Entire home/apt             3        1.0       0.0   2.0   \n",
       "278830      Entire home/apt             6        2.0       3.0   3.0   \n",
       "\n",
       "            bed_type  ... maximum_nights  number_of_reviews  \\\n",
       "listing_id            ...                                     \n",
       "241032      Real Bed  ...            365                207   \n",
       "953595      Real Bed  ...             90                 43   \n",
       "3308979     Real Bed  ...             30                 20   \n",
       "7421966     Real Bed  ...           1125                  0   \n",
       "278830      Real Bed  ...           1125                 38   \n",
       "\n",
       "           review_scores_rating  review_scores_accuracy  \\\n",
       "listing_id                                                \n",
       "241032                     95.0                    10.0   \n",
       "953595                     96.0                    10.0   \n",
       "3308979                    97.0                    10.0   \n",
       "7421966                     NaN                     NaN   \n",
       "278830                     92.0                     9.0   \n",
       "\n",
       "           review_scores_cleanliness  review_scores_checkin  \\\n",
       "listing_id                                                    \n",
       "241032                          10.0                   10.0   \n",
       "953595                          10.0                   10.0   \n",
       "3308979                         10.0                   10.0   \n",
       "7421966                          NaN                    NaN   \n",
       "278830                           9.0                   10.0   \n",
       "\n",
       "            review_scores_communication  review_scores_location  \\\n",
       "listing_id                                                        \n",
       "241032                             10.0                     9.0   \n",
       "953595                             10.0                    10.0   \n",
       "3308979                            10.0                    10.0   \n",
       "7421966                             NaN                     NaN   \n",
       "278830                             10.0                     9.0   \n",
       "\n",
       "            review_scores_value  cancellation_policy  \n",
       "listing_id                                            \n",
       "241032                     10.0             moderate  \n",
       "953595                     10.0               strict  \n",
       "3308979                    10.0               strict  \n",
       "7421966                     NaN             flexible  \n",
       "278830                      9.0               strict  \n",
       "\n",
       "[5 rows x 26 columns]"
      ]
     },
     "execution_count": 264,
     "metadata": {},
     "output_type": "execute_result"
    }
   ],
   "source": [
    "# Drop columns not relevant to this analysis\n",
    "cols_to_drop = ['listing_url', 'scrape_id', 'last_scraped', 'name', 'summary', 'space',\n",
    "       'description', 'experiences_offered', 'neighborhood_overview', 'notes', 'transit',\n",
    "       'thumbnail_url', 'medium_url', 'picture_url',\n",
    "       'xl_picture_url', 'host_id', 'host_url', 'host_name', 'host_since',\n",
    "       'host_location', 'host_about', 'host_response_time',\n",
    "       'host_response_rate', 'host_acceptance_rate',\n",
    "       'host_thumbnail_url', 'host_picture_url', 'host_neighbourhood',\n",
    "       'host_listings_count', 'host_total_listings_count',\n",
    "       'host_verifications', 'host_has_profile_pic', 'host_identity_verified',\n",
    "       'street', 'neighbourhood', \n",
    "       'neighbourhood_group_cleansed', 'city', 'state', 'market',\n",
    "       'smart_location', 'country_code', 'country', 'latitude', 'longitude',\n",
    "       'is_location_exact', \n",
    "       'weekly_price', 'monthly_price', 'security_deposit',\n",
    "       'cleaning_fee', 'calendar_updated', 'has_availability',\n",
    "       'availability_30', 'availability_60', 'availability_90',\n",
    "       'availability_365', 'calendar_last_scraped',\n",
    "       'first_review', 'last_review', 'requires_license',\n",
    "       'license', 'jurisdiction_names', 'instant_bookable',\n",
    "       'require_guest_profile_picture',\n",
    "       'require_guest_phone_verification', 'calculated_host_listings_count',\n",
    "       'reviews_per_month']\n",
    "\n",
    "sea_list.drop(columns=cols_to_drop, inplace=True)\n",
    "bos_list.drop(columns=cols_to_drop + boston_not_seattle, inplace=True)\n",
    "\n",
    "sea_list.head()"
   ]
  },
  {
   "cell_type": "code",
   "execution_count": 265,
   "id": "structural-morris",
   "metadata": {},
   "outputs": [
    {
     "data": {
      "text/plain": [
       "square_feet                    3721\n",
       "review_scores_checkin           658\n",
       "review_scores_accuracy          658\n",
       "review_scores_value             656\n",
       "review_scores_location          655\n",
       "review_scores_cleanliness       653\n",
       "review_scores_communication     651\n",
       "review_scores_rating            647\n",
       "bathrooms                        16\n",
       "zipcode                           7\n",
       "bedrooms                          6\n",
       "host_is_superhost                 2\n",
       "property_type                     1\n",
       "beds                              1\n",
       "dtype: int64"
      ]
     },
     "execution_count": 265,
     "metadata": {},
     "output_type": "execute_result"
    }
   ],
   "source": [
    "# Check for missing values in Seattle data\n",
    "missing_vals = sea_list.isnull().sum().sort_values(ascending = False)\n",
    "missing_vals[missing_vals > 0]"
   ]
  },
  {
   "cell_type": "code",
   "execution_count": 266,
   "id": "equipped-future",
   "metadata": {},
   "outputs": [
    {
     "data": {
      "text/plain": [
       "square_feet                    3529\n",
       "review_scores_accuracy          823\n",
       "review_scores_location          822\n",
       "review_scores_value             821\n",
       "review_scores_checkin           820\n",
       "review_scores_communication     818\n",
       "review_scores_cleanliness       818\n",
       "review_scores_rating            813\n",
       "zipcode                          38\n",
       "bathrooms                        14\n",
       "bedrooms                         10\n",
       "beds                              9\n",
       "property_type                     3\n",
       "dtype: int64"
      ]
     },
     "execution_count": 266,
     "metadata": {},
     "output_type": "execute_result"
    }
   ],
   "source": [
    "# Check for missing values in Boston data\n",
    "missing_vals = bos_list.isnull().sum().sort_values(ascending = False)\n",
    "missing_vals[missing_vals > 0]"
   ]
  },
  {
   "cell_type": "code",
   "execution_count": 267,
   "id": "virgin-florence",
   "metadata": {},
   "outputs": [],
   "source": [
    "# Drop 'square_feet' column since most are missing in both datasets\n",
    "sea_list.drop(columns=['square_feet'], inplace=True)\n",
    "bos_list.drop(columns=['square_feet'], inplace=True)"
   ]
  },
  {
   "cell_type": "code",
   "execution_count": 268,
   "id": "progressive-alloy",
   "metadata": {},
   "outputs": [],
   "source": [
    "# Convert boolean string fields to boolean\n",
    "sea_list.replace({'host_is_superhost': {'t': True, 'f': False}}, inplace=True)\n",
    "bos_list.replace({'host_is_superhost': {'t': True, 'f': False}}, inplace=True)\n",
    "\n",
    "sea_cal.replace({'available': {'t': True, 'f': False}}, inplace=True)\n",
    "bos_cal.replace({'available': {'t': True, 'f': False}}, inplace=True)"
   ]
  },
  {
   "cell_type": "code",
   "execution_count": 269,
   "id": "polish-retirement",
   "metadata": {},
   "outputs": [],
   "source": [
    "# Convert date fields to DateTime64\n",
    "bos_cal.date = pd.to_datetime(bos_cal.date)\n",
    "bos_rev.date = pd.to_datetime(bos_rev.date)\n",
    "\n",
    "sea_cal.date = pd.to_datetime(sea_cal.date)\n",
    "sea_rev.date = pd.to_datetime(sea_rev.date)"
   ]
  },
  {
   "cell_type": "code",
   "execution_count": 270,
   "id": "thirty-brother",
   "metadata": {},
   "outputs": [],
   "source": [
    "# Convert price fields to float\n",
    "bos_cal.price = bos_cal.price.str.replace('[^\\d\\.]','', regex=True).astype('float')\n",
    "sea_cal.price = sea_cal.price.str.replace('[^\\d\\.]','', regex=True).astype('float')\n",
    "\n",
    "bos_list.price = bos_list.price.str.replace('[^\\d\\.]','', regex=True).astype('float')\n",
    "sea_list.price = sea_list.price.str.replace('[^\\d\\.]','', regex=True).astype('float')\n",
    "\n",
    "sea_list.extra_people = sea_list.extra_people.str.replace('[^\\d\\.]','', regex=True).astype('float')\n",
    "bos_list.extra_people = bos_list.extra_people.str.replace('[^\\d\\.]','', regex=True).astype('float')"
   ]
  },
  {
   "cell_type": "markdown",
   "id": "economic-detective",
   "metadata": {},
   "source": [
    "### Exploratory Data Analysis"
   ]
  },
  {
   "cell_type": "code",
   "execution_count": 279,
   "id": "eastern-guess",
   "metadata": {},
   "outputs": [
    {
     "data": {
      "image/png": "[encoded data removed]",
      "text/plain": [
       "<Figure size 1080x360 with 1 Axes>"
      ]
     },
     "metadata": {
      "needs_background": "light"
     },
     "output_type": "display_data"
    }
   ],
   "source": [
    "fig, ax = plt.subplots(1, 1, figsize=(15,5))\n",
    "\n",
    "_ = sea_cal.join(sea_list[['neighbourhood_cleansed']]) \\\n",
    "       .reset_index() \\\n",
    "       .groupby('neighbourhood_cleansed') \\\n",
    "       .price.mean() \\\n",
    "       .sort_values(ascending=False) \\\n",
    "       .plot(kind='bar', ax=ax)\n",
    "\n",
    "_ = plt.title(\"Average Listing Price by Seattle Neighborhood\")\n",
    "_ = plt.xlabel(\"Neighborhood\")\n",
    "_ = plt.ylabel(\"Price per Night\")\n",
    "\n",
    "fmt = '${x:,.0f}'\n",
    "tick = mtick.StrMethodFormatter(fmt)\n",
    "ax.yaxis.set_major_formatter(tick) "
   ]
  },
  {
   "cell_type": "code",
   "execution_count": 280,
   "id": "bright-cylinder",
   "metadata": {},
   "outputs": [
    {
     "data": {
      "image/png": "[encoded data removed]",
      "text/plain": [
       "<Figure size 576x360 with 1 Axes>"
      ]
     },
     "metadata": {
      "needs_background": "light"
     },
     "output_type": "display_data"
    }
   ],
   "source": [
    "fig, ax = plt.subplots(1, 1, figsize=(8,5))\n",
    "\n",
    "_ = bos_cal.join(bos_list[['neighbourhood_cleansed']]) \\\n",
    "       .reset_index() \\\n",
    "       .groupby('neighbourhood_cleansed') \\\n",
    "       .price.mean() \\\n",
    "       .sort_values(ascending=False) \\\n",
    "       .plot(kind='bar', ax=ax)\n",
    "\n",
    "_ = plt.title(\"Average Listing Price by Boston Neighborhood\")\n",
    "_ = plt.xlabel(\"Neighborhood\")\n",
    "_ = plt.ylabel(\"Price per Night\")\n",
    "\n",
    "fmt = '${x:,.0f}'\n",
    "tick = mtick.StrMethodFormatter(fmt)\n",
    "ax.yaxis.set_major_formatter(tick) "
   ]
  },
  {
   "cell_type": "code",
   "execution_count": 184,
   "id": "transsexual-location",
   "metadata": {},
   "outputs": [
    {
     "data": {
      "image/png": "[encoded data removed]",
      "text/plain": [
       "<Figure size 432x288 with 1 Axes>"
      ]
     },
     "metadata": {
      "needs_background": "light"
     },
     "output_type": "display_data"
    }
   ],
   "source": [
    "_ = sea_cal \\\n",
    "       .resample('W', on='date') \\\n",
    "       .price.mean() \\\n",
    "       .plot(label='Seattle')\n",
    "\n",
    "_ = bos_cal \\\n",
    "       .resample('W', on='date') \\\n",
    "       .price.mean() \\\n",
    "       .plot(label='Boston')\n",
    "\n",
    "_ = plt.title('Average Weekly Prices')\n",
    "\n",
    "_ = plt.legend()"
   ]
  },
  {
   "cell_type": "code",
   "execution_count": null,
   "id": "younger-brisbane",
   "metadata": {},
   "outputs": [],
   "source": []
  }
 ],
 "metadata": {
  "kernelspec": {
   "display_name": "Python 3",
   "language": "python",
   "name": "python3"
  },
  "language_info": {
   "codemirror_mode": {
    "name": "ipython",
    "version": 3
   },
   "file_extension": ".py",
   "mimetype": "text/x-python",
   "name": "python",
   "nbconvert_exporter": "python",
   "pygments_lexer": "ipython3",
   "version": "3.8.5"
  }
 },
 "nbformat": 4,
 "nbformat_minor": 5
}
